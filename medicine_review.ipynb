{
  "nbformat": 4,
  "nbformat_minor": 0,
  "metadata": {
    "kernelspec": {
      "display_name": "Python 3",
      "language": "python",
      "name": "python3"
    },
    "language_info": {
      "codemirror_mode": {
        "name": "ipython",
        "version": 3
      },
      "file_extension": ".py",
      "mimetype": "text/x-python",
      "name": "python",
      "nbconvert_exporter": "python",
      "pygments_lexer": "ipython3",
      "version": "3.7.6"
    },
    "colab": {
      "name": "medicine_review.ipynb",
      "provenance": [],
      "include_colab_link": true
    }
  },
  "cells": [
    {
      "cell_type": "markdown",
      "metadata": {
        "id": "view-in-github",
        "colab_type": "text"
      },
      "source": [
        "<a href=\"https://colab.research.google.com/github/syeda-rosa10/Medicine-Review/blob/master/medicine_review.ipynb\" target=\"_parent\"><img src=\"https://colab.research.google.com/assets/colab-badge.svg\" alt=\"Open In Colab\"/></a>"
      ]
    },
    {
      "cell_type": "code",
      "metadata": {
        "id": "z63w-Z8jjneE"
      },
      "source": [
        "from sklearn.preprocessing import StandardScaler\n",
        "from sklearn import metrics\n",
        "from sklearn.model_selection import train_test_split\n",
        "from sklearn.linear_model import LogisticRegression\n",
        "from sklearn.feature_extraction.text import CountVectorizer\n",
        "from sklearn.feature_extraction.text import TfidfVectorizer\n",
        "import pandas as pd\n",
        "import numpy as np\n",
        "import logging\n",
        "from numpy import random\n",
        "\n",
        "import nltk\n",
        "from sklearn.metrics import accuracy_score, confusion_matrix\n",
        "import matplotlib.pyplot as plt\n",
        "from nltk.corpus import stopwords\n",
        "from bs4 import BeautifulSoup\n",
        "import re\n",
        "import seaborn as sns"
      ],
      "execution_count": null,
      "outputs": []
    },
    {
      "cell_type": "code",
      "metadata": {
        "id": "KVwohh8Ojneh",
        "outputId": "a0c10a23-3299-43d2-f774-b99baaa0ce71"
      },
      "source": [
        "df=pd.read_csv('train.csv')\n",
        "df.head()"
      ],
      "execution_count": null,
      "outputs": [
        {
          "output_type": "execute_result",
          "data": {
            "text/html": [
              "<div>\n",
              "<style scoped>\n",
              "    .dataframe tbody tr th:only-of-type {\n",
              "        vertical-align: middle;\n",
              "    }\n",
              "\n",
              "    .dataframe tbody tr th {\n",
              "        vertical-align: top;\n",
              "    }\n",
              "\n",
              "    .dataframe thead th {\n",
              "        text-align: right;\n",
              "    }\n",
              "</style>\n",
              "<table border=\"1\" class=\"dataframe\">\n",
              "  <thead>\n",
              "    <tr style=\"text-align: right;\">\n",
              "      <th></th>\n",
              "      <th>Id</th>\n",
              "      <th>drugName</th>\n",
              "      <th>condition</th>\n",
              "      <th>review</th>\n",
              "      <th>rating</th>\n",
              "      <th>date</th>\n",
              "      <th>usefulCount</th>\n",
              "      <th>output</th>\n",
              "    </tr>\n",
              "  </thead>\n",
              "  <tbody>\n",
              "    <tr>\n",
              "      <th>0</th>\n",
              "      <td>0</td>\n",
              "      <td>Escitalopram</td>\n",
              "      <td>Premenstrual Dysphoric Disorde</td>\n",
              "      <td>\"This drug has changed my life. I take 5mg onl...</td>\n",
              "      <td>10</td>\n",
              "      <td>2016-01-30</td>\n",
              "      <td>23</td>\n",
              "      <td>No</td>\n",
              "    </tr>\n",
              "    <tr>\n",
              "      <th>1</th>\n",
              "      <td>1</td>\n",
              "      <td>Yaz</td>\n",
              "      <td>Birth Control</td>\n",
              "      <td>\"I&amp;#039;ve been experimenting with different b...</td>\n",
              "      <td>10</td>\n",
              "      <td>2013-02-01</td>\n",
              "      <td>55</td>\n",
              "      <td>No</td>\n",
              "    </tr>\n",
              "    <tr>\n",
              "      <th>2</th>\n",
              "      <td>2</td>\n",
              "      <td>Tramadol</td>\n",
              "      <td>Pain</td>\n",
              "      <td>\"I broke my nose and was prescribed tramadol b...</td>\n",
              "      <td>10</td>\n",
              "      <td>2016-11-04</td>\n",
              "      <td>26</td>\n",
              "      <td>No</td>\n",
              "    </tr>\n",
              "    <tr>\n",
              "      <th>3</th>\n",
              "      <td>3</td>\n",
              "      <td>Ethinyl estradiol / norgestimate</td>\n",
              "      <td>Birth Control</td>\n",
              "      <td>\"I&amp;rsquo;ve only gone through a pack and a hal...</td>\n",
              "      <td>10</td>\n",
              "      <td>2017-11-02</td>\n",
              "      <td>0</td>\n",
              "      <td>No</td>\n",
              "    </tr>\n",
              "    <tr>\n",
              "      <th>4</th>\n",
              "      <td>4</td>\n",
              "      <td>Actiq</td>\n",
              "      <td>Breakthrough Pain</td>\n",
              "      <td>\"When on this medication,along with a long-act...</td>\n",
              "      <td>10</td>\n",
              "      <td>2009-08-21</td>\n",
              "      <td>38</td>\n",
              "      <td>No</td>\n",
              "    </tr>\n",
              "  </tbody>\n",
              "</table>\n",
              "</div>"
            ],
            "text/plain": [
              "   Id                          drugName                       condition  \\\n",
              "0   0                      Escitalopram  Premenstrual Dysphoric Disorde   \n",
              "1   1                               Yaz                   Birth Control   \n",
              "2   2                          Tramadol                            Pain   \n",
              "3   3  Ethinyl estradiol / norgestimate                   Birth Control   \n",
              "4   4                             Actiq               Breakthrough Pain   \n",
              "\n",
              "                                              review  rating        date  \\\n",
              "0  \"This drug has changed my life. I take 5mg onl...      10  2016-01-30   \n",
              "1  \"I&#039;ve been experimenting with different b...      10  2013-02-01   \n",
              "2  \"I broke my nose and was prescribed tramadol b...      10  2016-11-04   \n",
              "3  \"I&rsquo;ve only gone through a pack and a hal...      10  2017-11-02   \n",
              "4  \"When on this medication,along with a long-act...      10  2009-08-21   \n",
              "\n",
              "   usefulCount output  \n",
              "0           23     No  \n",
              "1           55     No  \n",
              "2           26     No  \n",
              "3            0     No  \n",
              "4           38     No  "
            ]
          },
          "metadata": {
            "tags": []
          },
          "execution_count": 3
        }
      ]
    },
    {
      "cell_type": "code",
      "metadata": {
        "id": "7ylB2iB-jneq",
        "outputId": "33ee5f6f-abd4-4972-fe12-cfb572c75a91"
      },
      "source": [
        "df.shape"
      ],
      "execution_count": null,
      "outputs": [
        {
          "output_type": "execute_result",
          "data": {
            "text/plain": [
              "(40324, 8)"
            ]
          },
          "metadata": {
            "tags": []
          },
          "execution_count": 4
        }
      ]
    },
    {
      "cell_type": "code",
      "metadata": {
        "id": "03Wqx1X1jnew",
        "outputId": "811b8d16-7579-4ab5-c35b-af9155e757f9"
      },
      "source": [
        "import nltk\n",
        "nltk.download('stopwords')"
      ],
      "execution_count": null,
      "outputs": [
        {
          "output_type": "stream",
          "text": [
            "[nltk_data] Downloading package stopwords to\n",
            "[nltk_data]     C:\\Users\\ADMIN\\AppData\\Roaming\\nltk_data...\n",
            "[nltk_data]   Unzipping corpora\\stopwords.zip.\n"
          ],
          "name": "stderr"
        },
        {
          "output_type": "execute_result",
          "data": {
            "text/plain": [
              "True"
            ]
          },
          "metadata": {
            "tags": []
          },
          "execution_count": 6
        }
      ]
    },
    {
      "cell_type": "code",
      "metadata": {
        "id": "r5nljL_4jne3"
      },
      "source": [
        "REPLACE_BY_SPACE_RE = re.compile('[/(){}\\[\\]\\|@,;]')\n",
        "BAD_SYMBOLS_RE = re.compile('[^0-9a-z #+_]')\n",
        "STOPWORDS = set(stopwords.words('english'))\n",
        "\n",
        "def clean_text(text):\n",
        "    \"\"\"\n",
        "        text: a string\n",
        "        \n",
        "        return: modified initial string\n",
        "    \"\"\"\n",
        "    text = BeautifulSoup(text, \"lxml\").text # HTML decoding\n",
        "    text = text.lower() # lowercase text\n",
        "    text = REPLACE_BY_SPACE_RE.sub(' ', text) # replace REPLACE_BY_SPACE_RE symbols by space in text\n",
        "    text = BAD_SYMBOLS_RE.sub('', text) # delete symbols which are in BAD_SYMBOLS_RE from text\n",
        "    text = ' '.join(word for word in text.split() if word not in STOPWORDS) # delete stopwors from text\n",
        "    return text\n",
        "    \n",
        "df['review'] = df['review'].apply(clean_text)"
      ],
      "execution_count": null,
      "outputs": []
    },
    {
      "cell_type": "code",
      "metadata": {
        "id": "ZsOJeRfZjnfB",
        "outputId": "92c5d195-5821-4eec-ca73-e939eed071f5"
      },
      "source": [
        "df.head()"
      ],
      "execution_count": null,
      "outputs": [
        {
          "output_type": "execute_result",
          "data": {
            "text/html": [
              "<div>\n",
              "<style scoped>\n",
              "    .dataframe tbody tr th:only-of-type {\n",
              "        vertical-align: middle;\n",
              "    }\n",
              "\n",
              "    .dataframe tbody tr th {\n",
              "        vertical-align: top;\n",
              "    }\n",
              "\n",
              "    .dataframe thead th {\n",
              "        text-align: right;\n",
              "    }\n",
              "</style>\n",
              "<table border=\"1\" class=\"dataframe\">\n",
              "  <thead>\n",
              "    <tr style=\"text-align: right;\">\n",
              "      <th></th>\n",
              "      <th>Id</th>\n",
              "      <th>drugName</th>\n",
              "      <th>condition</th>\n",
              "      <th>review</th>\n",
              "      <th>rating</th>\n",
              "      <th>date</th>\n",
              "      <th>usefulCount</th>\n",
              "    </tr>\n",
              "  </thead>\n",
              "  <tbody>\n",
              "    <tr>\n",
              "      <th>0</th>\n",
              "      <td>0</td>\n",
              "      <td>Escitalopram</td>\n",
              "      <td>Premenstrual Dysphoric Disorde</td>\n",
              "      <td>drug changed life take 5mg luteal phase comple...</td>\n",
              "      <td>10</td>\n",
              "      <td>30-01-2016</td>\n",
              "      <td>23</td>\n",
              "    </tr>\n",
              "    <tr>\n",
              "      <th>1</th>\n",
              "      <td>1</td>\n",
              "      <td>Yaz</td>\n",
              "      <td>Birth Control</td>\n",
              "      <td>ive experimenting different brands birth contr...</td>\n",
              "      <td>10</td>\n",
              "      <td>01-02-2013</td>\n",
              "      <td>55</td>\n",
              "    </tr>\n",
              "    <tr>\n",
              "      <th>2</th>\n",
              "      <td>2</td>\n",
              "      <td>Tramadol</td>\n",
              "      <td>Pain</td>\n",
              "      <td>broke nose prescribed tramadol dr whatever sho...</td>\n",
              "      <td>10</td>\n",
              "      <td>04-11-2016</td>\n",
              "      <td>26</td>\n",
              "    </tr>\n",
              "    <tr>\n",
              "      <th>3</th>\n",
              "      <td>3</td>\n",
              "      <td>Ethinyl estradiol / norgestimate</td>\n",
              "      <td>Birth Control</td>\n",
              "      <td>ive gone pack half much better generess fe yea...</td>\n",
              "      <td>10</td>\n",
              "      <td>02-11-2017</td>\n",
              "      <td>0</td>\n",
              "    </tr>\n",
              "    <tr>\n",
              "      <th>4</th>\n",
              "      <td>4</td>\n",
              "      <td>Actiq</td>\n",
              "      <td>Breakthrough Pain</td>\n",
              "      <td>medication along longactingpain medication fee...</td>\n",
              "      <td>10</td>\n",
              "      <td>21-08-2009</td>\n",
              "      <td>38</td>\n",
              "    </tr>\n",
              "  </tbody>\n",
              "</table>\n",
              "</div>"
            ],
            "text/plain": [
              "   Id                          drugName                       condition  \\\n",
              "0   0                      Escitalopram  Premenstrual Dysphoric Disorde   \n",
              "1   1                               Yaz                   Birth Control   \n",
              "2   2                          Tramadol                            Pain   \n",
              "3   3  Ethinyl estradiol / norgestimate                   Birth Control   \n",
              "4   4                             Actiq               Breakthrough Pain   \n",
              "\n",
              "                                              review  rating        date  \\\n",
              "0  drug changed life take 5mg luteal phase comple...      10  30-01-2016   \n",
              "1  ive experimenting different brands birth contr...      10  01-02-2013   \n",
              "2  broke nose prescribed tramadol dr whatever sho...      10  04-11-2016   \n",
              "3  ive gone pack half much better generess fe yea...      10  02-11-2017   \n",
              "4  medication along longactingpain medication fee...      10  21-08-2009   \n",
              "\n",
              "   usefulCount  \n",
              "0           23  \n",
              "1           55  \n",
              "2           26  \n",
              "3            0  \n",
              "4           38  "
            ]
          },
          "metadata": {
            "tags": []
          },
          "execution_count": 5
        }
      ]
    },
    {
      "cell_type": "code",
      "metadata": {
        "id": "hGOuMn-7jnfH"
      },
      "source": [
        "nbs=TfidfVectorizer( max_features=22627)\n",
        "X = nbs.fit_transform(df.review)\n",
        "y=df.rating"
      ],
      "execution_count": null,
      "outputs": []
    },
    {
      "cell_type": "code",
      "metadata": {
        "id": "rgm4l01fjnfK",
        "outputId": "2fd7e635-047b-4689-bbf2-a813a3e6c1f0"
      },
      "source": [
        "X.shape"
      ],
      "execution_count": null,
      "outputs": [
        {
          "output_type": "execute_result",
          "data": {
            "text/plain": [
              "(40324, 22627)"
            ]
          },
          "metadata": {
            "tags": []
          },
          "execution_count": 9
        }
      ]
    },
    {
      "cell_type": "code",
      "metadata": {
        "id": "XiqPMw4-jnfN"
      },
      "source": [
        "#Splitting the data\n",
        "\n",
        "X_train, X_test, y_train, y_test = train_test_split(X, y, random_state=42, stratify=y, test_size=0.1)"
      ],
      "execution_count": null,
      "outputs": []
    },
    {
      "cell_type": "code",
      "metadata": {
        "id": "8HGfPNnPjnfQ"
      },
      "source": [
        "# instantiate second RandomForestClassifier\n",
        "from sklearn.ensemble import RandomForestClassifier\n",
        "from sklearn.metrics import classification_report, confusion_matrix # import metrics\n",
        "from sklearn.model_selection import KFold, cross_val_score # import evaluation tools\n",
        "from sklearn.metrics import classification_report\n",
        "\n",
        "forest_4 = RandomForestClassifier(n_estimators=100, random_state=42, max_depth = 10000, min_samples_split = 0.001)\n",
        "\n",
        "# train\n",
        "forest_4.fit(X_train, y_train)\n",
        "\n",
        "# predict\n",
        "y_test_preds = forest_4.predict(X_test)"
      ],
      "execution_count": null,
      "outputs": []
    },
    {
      "cell_type": "code",
      "metadata": {
        "id": "CjQgWlz9jnfS",
        "outputId": "a6765b70-3e81-4c86-92e6-6c05afd8fbb5"
      },
      "source": [
        "print('accuracy on train set %s' % accuracy_score(y_train, forest_4.predict(X_train)))\n",
        "print('accuracy on test set %s' % accuracy_score(y_test_preds, y_test))\n",
        "\n",
        "# evaluate\n",
        "report = classification_report(y_test, y_test_preds)\n",
        "print('Classification Report Random Forest: \\n', report)\n",
        "\n",
        "print(confusion_matrix(y_test_preds,y_test))"
      ],
      "execution_count": null,
      "outputs": [
        {
          "output_type": "stream",
          "text": [
            "accuracy on train set 0.9546444021933813\n",
            "accuracy on test set 0.44780560376890655\n",
            "Classification Report Random Forest: \n",
            "               precision    recall  f1-score   support\n",
            "\n",
            "           1       0.57      0.50      0.53       546\n",
            "           2       1.00      0.12      0.22       177\n",
            "           3       1.00      0.10      0.18       165\n",
            "           4       1.00      0.06      0.12       125\n",
            "           5       1.00      0.08      0.16       202\n",
            "           6       1.00      0.12      0.21       158\n",
            "           7       1.00      0.10      0.19       230\n",
            "           8       0.97      0.13      0.23       462\n",
            "           9       0.66      0.16      0.26       692\n",
            "          10       0.39      0.98      0.56      1276\n",
            "\n",
            "    accuracy                           0.45      4033\n",
            "   macro avg       0.86      0.24      0.27      4033\n",
            "weighted avg       0.69      0.45      0.37      4033\n",
            "\n",
            "[[ 271   44   39   23   28   16    8   17   13   15]\n",
            " [   0   22    0    0    0    0    0    0    0    0]\n",
            " [   0    0   16    0    0    0    0    0    0    0]\n",
            " [   0    0    0    8    0    0    0    0    0    0]\n",
            " [   0    0    0    0   17    0    0    0    0    0]\n",
            " [   0    0    0    0    0   19    0    0    0    0]\n",
            " [   0    0    0    0    0    0   24    0    0    0]\n",
            " [   0    0    0    1    0    0    1   60    0    0]\n",
            " [  10    7    1    2    6    6   11   11  113    5]\n",
            " [ 265  104  109   91  151  117  186  374  566 1256]]\n"
          ],
          "name": "stdout"
        }
      ]
    },
    {
      "cell_type": "code",
      "metadata": {
        "id": "6N-eFO9JjnfW",
        "outputId": "cd9d5b74-70ed-4e17-c216-efd56e737e36"
      },
      "source": [
        "from sklearn.metrics import mean_squared_error\n",
        "from math import sqrt\n",
        "rmse2=np.sqrt(mean_squared_error(y_test,y_test_preds))\n",
        "rmse2"
      ],
      "execution_count": null,
      "outputs": [
        {
          "output_type": "execute_result",
          "data": {
            "text/plain": [
              "3.5852412571964383"
            ]
          },
          "metadata": {
            "tags": []
          },
          "execution_count": 13
        }
      ]
    },
    {
      "cell_type": "code",
      "metadata": {
        "id": "NlqQYZ1bjnfa"
      },
      "source": [
        "dt=pd.read_csv(\"test.csv\")"
      ],
      "execution_count": null,
      "outputs": []
    },
    {
      "cell_type": "code",
      "metadata": {
        "id": "NARJa1-ejnfc"
      },
      "source": [
        "REPLACE_BY_SPACE_RE = re.compile('[/(){}\\[\\]\\|@,;]')\n",
        "BAD_SYMBOLS_RE = re.compile('[^0-9a-z #+_]')\n",
        "STOPWORDS = set(stopwords.words('english'))\n",
        "\n",
        "def clean_text(text):\n",
        "    \"\"\"\n",
        "        text: a string\n",
        "        \n",
        "        return: modified initial string\n",
        "    \"\"\"\n",
        "    text = BeautifulSoup(text, \"lxml\").text # HTML decoding\n",
        "    text = text.lower() # lowercase text\n",
        "    text = REPLACE_BY_SPACE_RE.sub(' ', text) # replace REPLACE_BY_SPACE_RE symbols by space in text\n",
        "    text = BAD_SYMBOLS_RE.sub('', text) # delete symbols which are in BAD_SYMBOLS_RE from text\n",
        "    text = ' '.join(word for word in text.split() if word not in STOPWORDS) # delete stopwors from text\n",
        "    return text\n",
        "    \n",
        "dt['review'] = dt['review'].apply(clean_text)"
      ],
      "execution_count": null,
      "outputs": []
    },
    {
      "cell_type": "code",
      "metadata": {
        "id": "DmwwxQSxjnfe",
        "outputId": "f00c2ba0-6a9f-480f-818c-323bf9757d09"
      },
      "source": [
        "dt.shape"
      ],
      "execution_count": null,
      "outputs": [
        {
          "output_type": "execute_result",
          "data": {
            "text/plain": [
              "(13442, 6)"
            ]
          },
          "metadata": {
            "tags": []
          },
          "execution_count": 16
        }
      ]
    },
    {
      "cell_type": "code",
      "metadata": {
        "id": "NqNGLsF8jnfg",
        "outputId": "2b5d1d39-8525-4df3-be07-0d76ac9620fb"
      },
      "source": [
        "dt.head()"
      ],
      "execution_count": null,
      "outputs": [
        {
          "output_type": "execute_result",
          "data": {
            "text/html": [
              "<div>\n",
              "<style scoped>\n",
              "    .dataframe tbody tr th:only-of-type {\n",
              "        vertical-align: middle;\n",
              "    }\n",
              "\n",
              "    .dataframe tbody tr th {\n",
              "        vertical-align: top;\n",
              "    }\n",
              "\n",
              "    .dataframe thead th {\n",
              "        text-align: right;\n",
              "    }\n",
              "</style>\n",
              "<table border=\"1\" class=\"dataframe\">\n",
              "  <thead>\n",
              "    <tr style=\"text-align: right;\">\n",
              "      <th></th>\n",
              "      <th>Id</th>\n",
              "      <th>drugName</th>\n",
              "      <th>condition</th>\n",
              "      <th>review</th>\n",
              "      <th>date</th>\n",
              "      <th>usefulCount</th>\n",
              "    </tr>\n",
              "  </thead>\n",
              "  <tbody>\n",
              "    <tr>\n",
              "      <th>0</th>\n",
              "      <td>0</td>\n",
              "      <td>Drospirenone / ethinyl estradiol</td>\n",
              "      <td>Birth Control</td>\n",
              "      <td>side effects nausea headaches etc regulated pe...</td>\n",
              "      <td>2015-05-05</td>\n",
              "      <td>3</td>\n",
              "    </tr>\n",
              "    <tr>\n",
              "      <th>1</th>\n",
              "      <td>1</td>\n",
              "      <td>Lithium</td>\n",
              "      <td>Bipolar Disorde</td>\n",
              "      <td>originally got sick insomnia mania prescribed ...</td>\n",
              "      <td>2014-07-07</td>\n",
              "      <td>33</td>\n",
              "    </tr>\n",
              "    <tr>\n",
              "      <th>2</th>\n",
              "      <td>2</td>\n",
              "      <td>Concerta</td>\n",
              "      <td>ADHD</td>\n",
              "      <td>adult adhd concerta way go focused able comple...</td>\n",
              "      <td>2009-08-09</td>\n",
              "      <td>40</td>\n",
              "    </tr>\n",
              "    <tr>\n",
              "      <th>3</th>\n",
              "      <td>3</td>\n",
              "      <td>Orthovisc</td>\n",
              "      <td>Osteoarthritis</td>\n",
              "      <td>waste money paid copay 400 3 injections left r...</td>\n",
              "      <td>2015-06-20</td>\n",
              "      <td>21</td>\n",
              "    </tr>\n",
              "    <tr>\n",
              "      <th>4</th>\n",
              "      <td>4</td>\n",
              "      <td>Lorcaserin</td>\n",
              "      <td>Weight Loss</td>\n",
              "      <td>took first pill yesterday noticed almost immed...</td>\n",
              "      <td>2016-06-22</td>\n",
              "      <td>19</td>\n",
              "    </tr>\n",
              "  </tbody>\n",
              "</table>\n",
              "</div>"
            ],
            "text/plain": [
              "   Id                          drugName        condition  \\\n",
              "0   0  Drospirenone / ethinyl estradiol    Birth Control   \n",
              "1   1                           Lithium  Bipolar Disorde   \n",
              "2   2                          Concerta             ADHD   \n",
              "3   3                         Orthovisc   Osteoarthritis   \n",
              "4   4                        Lorcaserin      Weight Loss   \n",
              "\n",
              "                                              review        date  usefulCount  \n",
              "0  side effects nausea headaches etc regulated pe...  2015-05-05            3  \n",
              "1  originally got sick insomnia mania prescribed ...  2014-07-07           33  \n",
              "2  adult adhd concerta way go focused able comple...  2009-08-09           40  \n",
              "3  waste money paid copay 400 3 injections left r...  2015-06-20           21  \n",
              "4  took first pill yesterday noticed almost immed...  2016-06-22           19  "
            ]
          },
          "metadata": {
            "tags": []
          },
          "execution_count": 17
        }
      ]
    },
    {
      "cell_type": "code",
      "metadata": {
        "id": "z8HjbnJ1jnfi"
      },
      "source": [
        "from sklearn.pipeline import Pipeline\n",
        "from sklearn.feature_extraction.text import TfidfTransformer\n",
        "nbs = Pipeline([('vect', CountVectorizer()),\n",
        "                ('tfidf', TfidfTransformer())])\n",
        "\n",
        "Xt = nbs.fit_transform(dt.review)"
      ],
      "execution_count": null,
      "outputs": []
    },
    {
      "cell_type": "code",
      "metadata": {
        "id": "TEHO9JWwjnfl"
      },
      "source": [
        "nbs=TfidfVectorizer()\n",
        "Xt = nbs.fit_transform(dt.review)"
      ],
      "execution_count": null,
      "outputs": []
    },
    {
      "cell_type": "code",
      "metadata": {
        "id": "Tl2JrhFbjnfr",
        "outputId": "cc7d71bd-7728-442f-b7c9-29c97741b7f7"
      },
      "source": [
        "Xt"
      ],
      "execution_count": null,
      "outputs": [
        {
          "output_type": "execute_result",
          "data": {
            "text/plain": [
              "<13442x22627 sparse matrix of type '<class 'numpy.float64'>'\n",
              "\twith 503397 stored elements in Compressed Sparse Row format>"
            ]
          },
          "metadata": {
            "tags": []
          },
          "execution_count": 20
        }
      ]
    },
    {
      "cell_type": "code",
      "metadata": {
        "id": "yZHwpQhsjnfu",
        "outputId": "4f02afbc-cfb3-4d61-cb85-940317583f7c"
      },
      "source": [
        "X_train"
      ],
      "execution_count": null,
      "outputs": [
        {
          "output_type": "execute_result",
          "data": {
            "text/plain": [
              "<36291x22627 sparse matrix of type '<class 'numpy.float64'>'\n",
              "\twith 1342632 stored elements in Compressed Sparse Row format>"
            ]
          },
          "metadata": {
            "tags": []
          },
          "execution_count": 21
        }
      ]
    },
    {
      "cell_type": "code",
      "metadata": {
        "id": "Tlw9oOEIjnfz",
        "outputId": "69a1de8f-91ae-4c86-b381-c05fab0bab2e"
      },
      "source": [
        "type(Xt)"
      ],
      "execution_count": null,
      "outputs": [
        {
          "output_type": "execute_result",
          "data": {
            "text/plain": [
              "scipy.sparse.csr.csr_matrix"
            ]
          },
          "metadata": {
            "tags": []
          },
          "execution_count": 22
        }
      ]
    },
    {
      "cell_type": "code",
      "metadata": {
        "id": "LqyHbkasjnf9"
      },
      "source": [
        "y_test_preds = forest_4.predict(Xt)"
      ],
      "execution_count": null,
      "outputs": []
    },
    {
      "cell_type": "code",
      "metadata": {
        "id": "AQhcWR4CjngC",
        "outputId": "c82c4988-e723-4a62-8b91-4ff699b3e173"
      },
      "source": [
        "y_test_preds"
      ],
      "execution_count": null,
      "outputs": [
        {
          "output_type": "execute_result",
          "data": {
            "text/plain": [
              "array([10, 10, 10, ..., 10, 10,  1], dtype=int64)"
            ]
          },
          "metadata": {
            "tags": []
          },
          "execution_count": 24
        }
      ]
    },
    {
      "cell_type": "code",
      "metadata": {
        "id": "oEHwzjINjngE"
      },
      "source": [
        "#---------------------------------------------------------------------------------#"
      ],
      "execution_count": null,
      "outputs": []
    },
    {
      "cell_type": "code",
      "metadata": {
        "id": "NVHyFpZtjngI",
        "outputId": "318da328-b947-448d-e7e8-a41976d21b07"
      },
      "source": [
        "from sklearn.svm import LinearSVC\n",
        "from sklearn.metrics import accuracy_score, confusion_matrix\n",
        "\n",
        "nbs = LinearSVC()\n",
        "nbs.fit(X_train, y_train)\n",
        "\n",
        "\n",
        "y_pred = nbs.predict(X_test)\n",
        "\n",
        "print('accuracy on train set %s' % accuracy_score(y_train, nbs.predict(X_train)))\n",
        "print('accuracy on test set %s' % accuracy_score(y_pred, y_test))"
      ],
      "execution_count": null,
      "outputs": [
        {
          "output_type": "stream",
          "text": [
            "accuracy on train set 0.7943016174809181\n",
            "accuracy on test set 0.43069675179766925\n"
          ],
          "name": "stdout"
        }
      ]
    },
    {
      "cell_type": "code",
      "metadata": {
        "id": "GErHqqg1jngO",
        "outputId": "3d5cf7f7-26cc-4edf-a216-6a56299d2baa"
      },
      "source": [
        "# evaluate\n",
        "report = classification_report(y_test, y_pred)\n",
        "print('Classification Report Linear SVC: \\n', report)"
      ],
      "execution_count": null,
      "outputs": [
        {
          "output_type": "stream",
          "text": [
            "Classification Report Linear SVC: \n",
            "               precision    recall  f1-score   support\n",
            "\n",
            "           1       0.48      0.63      0.54       546\n",
            "           2       0.31      0.16      0.21       177\n",
            "           3       0.28      0.15      0.19       165\n",
            "           4       0.24      0.09      0.13       125\n",
            "           5       0.28      0.16      0.20       202\n",
            "           6       0.30      0.14      0.19       158\n",
            "           7       0.30      0.15      0.20       230\n",
            "           8       0.29      0.21      0.25       462\n",
            "           9       0.31      0.28      0.30       692\n",
            "          10       0.52      0.74      0.61      1276\n",
            "\n",
            "    accuracy                           0.43      4033\n",
            "   macro avg       0.33      0.27      0.28      4033\n",
            "weighted avg       0.39      0.43      0.40      4033\n",
            "\n"
          ],
          "name": "stdout"
        }
      ]
    },
    {
      "cell_type": "code",
      "metadata": {
        "id": "U7OGVyOfjngR",
        "outputId": "a5333f6d-1116-4896-f154-ed347a62cefd"
      },
      "source": [
        "print(confusion_matrix(y_pred,y_test))"
      ],
      "execution_count": null,
      "outputs": [
        {
          "output_type": "stream",
          "text": [
            "[[344  75  60  32  42  29  20  33  28  54]\n",
            " [ 22  29   7   5  10   2   5   5   2   8]\n",
            " [  9   6  24  10   5   4   6   7   7   8]\n",
            " [  6   1   4  11   6   3   3   4   5   3]\n",
            " [  9   8  10   5  32   6   7  18  11   9]\n",
            " [  6   6   2   3   4  22   9   7   6   8]\n",
            " [  5   5   8   3   7   9  35  15  20  10]\n",
            " [ 14   6  10   9  21  20  33  99  64  66]\n",
            " [ 39  18  15   9  25  23  41  88 193 162]\n",
            " [ 92  23  25  38  50  40  71 186 356 948]]\n"
          ],
          "name": "stdout"
        }
      ]
    },
    {
      "cell_type": "code",
      "metadata": {
        "id": "rfBJOmcrjngY",
        "outputId": "ace0d0db-9a01-4800-a902-a6af5488880e"
      },
      "source": [
        "from sklearn.linear_model import LogisticRegression\n",
        "\n",
        "clf = LogisticRegression()\n",
        "clf.fit(X_train,y_train)\n",
        "pred_y = clf.predict(X_test)\n",
        "\n",
        "print('accuracy on train set %s' % accuracy_score(y_train, clf.predict(X_train)))\n",
        "print('accuracy on test set %s' % accuracy_score(pred_y, y_test))\n",
        "\n",
        "report = classification_report(y_test, pred_y)\n",
        "print('Classification Report Logistic regression: \\n', report)\n",
        "\n",
        "print(confusion_matrix(pred_y,y_test))"
      ],
      "execution_count": null,
      "outputs": [
        {
          "output_type": "stream",
          "text": [
            "accuracy on train set 0.5525336860378606\n",
            "accuracy on test set 0.42201834862385323\n",
            "Classification Report Logistic regression: \n",
            "               precision    recall  f1-score   support\n",
            "\n",
            "           1       0.46      0.68      0.55       546\n",
            "           2       0.33      0.05      0.08       177\n",
            "           3       0.13      0.02      0.04       165\n",
            "           4       0.14      0.01      0.02       125\n",
            "           5       0.30      0.09      0.14       202\n",
            "           6       0.08      0.01      0.01       158\n",
            "           7       0.17      0.04      0.06       230\n",
            "           8       0.26      0.17      0.20       462\n",
            "           9       0.29      0.23      0.26       692\n",
            "          10       0.48      0.82      0.61      1276\n",
            "\n",
            "    accuracy                           0.42      4033\n",
            "   macro avg       0.26      0.21      0.20      4033\n",
            "weighted avg       0.35      0.42      0.35      4033\n",
            "\n",
            "[[ 372   91   76   37   54   34   25   32   35   45]\n",
            " [   4    8    2    2    4    1    0    0    1    2]\n",
            " [   4    3    4    3    2    2    1    6    4    1]\n",
            " [   0    0    2    1    2    0    0    0    1    1]\n",
            " [   7    5    8    8   19    5    2    7    2    1]\n",
            " [   0    1    2    3    1    1    2    0    2    1]\n",
            " [   2    4    6    2    3    5    9    7    9    5]\n",
            " [  14   11   11   12   17   27   41   78   53   38]\n",
            " [  28   19   14   10   31   24   47   96  160  132]\n",
            " [ 115   35   40   47   69   59  103  236  425 1050]]\n"
          ],
          "name": "stdout"
        },
        {
          "output_type": "stream",
          "text": [
            "C:\\Users\\ADMIN\\Anaconda3\\lib\\site-packages\\sklearn\\linear_model\\_logistic.py:764: ConvergenceWarning: lbfgs failed to converge (status=1):\n",
            "STOP: TOTAL NO. of ITERATIONS REACHED LIMIT.\n",
            "\n",
            "Increase the number of iterations (max_iter) or scale the data as shown in:\n",
            "    https://scikit-learn.org/stable/modules/preprocessing.html\n",
            "Please also refer to the documentation for alternative solver options:\n",
            "    https://scikit-learn.org/stable/modules/linear_model.html#logistic-regression\n",
            "  extra_warning_msg=_LOGISTIC_SOLVER_CONVERGENCE_MSG)\n"
          ],
          "name": "stderr"
        }
      ]
    },
    {
      "cell_type": "code",
      "metadata": {
        "id": "9Fa8auM3jnhA"
      },
      "source": [
        "from imblearn.over_sampling import SMOTE"
      ],
      "execution_count": null,
      "outputs": []
    },
    {
      "cell_type": "code",
      "metadata": {
        "id": "KljgpdWfjnhC",
        "outputId": "8dab53dc-0d3c-44c3-88b2-c2b8dc26c3f7"
      },
      "source": [
        "# view previous class distribution\n",
        "print('Before Upsampling with SMOTE:'), print(df['rating'].value_counts())\n",
        "\n",
        "# resample data ONLY using training data\n",
        "X_train, y_train = SMOTE().fit_sample(X_train, y_train)\n",
        "\n",
        "# view synthetic sample class distribution\n",
        "print('\\nAfter Upsampling with SMOTE:'), print(pd.Series(y_train).value_counts())"
      ],
      "execution_count": null,
      "outputs": [
        {
          "output_type": "stream",
          "text": [
            "Before Upsampling with SMOTE:\n",
            "10    12756\n",
            "9      6916\n",
            "1      5459\n",
            "8      4625\n",
            "7      2298\n",
            "5      2020\n",
            "2      1770\n",
            "3      1652\n",
            "6      1580\n",
            "4      1248\n",
            "Name: rating, dtype: int64\n",
            "\n",
            "After Upsampling with SMOTE:\n",
            "10    11480\n",
            "9     11480\n",
            "8     11480\n",
            "7     11480\n",
            "6     11480\n",
            "5     11480\n",
            "4     11480\n",
            "3     11480\n",
            "2     11480\n",
            "1     11480\n",
            "Name: rating, dtype: int64\n"
          ],
          "name": "stdout"
        },
        {
          "output_type": "execute_result",
          "data": {
            "text/plain": [
              "(None, None)"
            ]
          },
          "metadata": {
            "tags": []
          },
          "execution_count": 31
        }
      ]
    },
    {
      "cell_type": "code",
      "metadata": {
        "id": "KMwL2S2rjnhE"
      },
      "source": [
        "# instantiate second RandomForestClassifier with entropy and SMOTE\n",
        "forest_3 = RandomForestClassifier(n_estimators=300, criterion='gini', max_depth=None, min_samples_split=2, min_samples_leaf=1, min_weight_fraction_leaf=0.0, max_features='auto', max_leaf_nodes=None, min_impurity_decrease=0.0, min_impurity_split=None, bootstrap=True, oob_score=False, n_jobs=-1, random_state=None, verbose=0, warm_start=False, class_weight=None, ccp_alpha=0.0, max_samples=None)\n",
        "\n",
        "# train\n",
        "forest_3.fit(X_train, y_train)\n",
        "\n",
        "# predict\n",
        "y_test_preds = forest_3.predict(X_test)\n",
        "\n",
        "print('accuracy on train set %s' % accuracy_score(y_train, forest_3.predict(X_train)))\n",
        "print('accuracy on test set %s' % accuracy_score(y_test_preds, y_test))\n",
        "\n",
        "\n",
        "# evaluate\n",
        "report = classification_report(y_test, y_test_preds)\n",
        "print('Classification Report Random Forest - with Entropy and SMOTE Upsampling: \\n', report)"
      ],
      "execution_count": null,
      "outputs": []
    },
    {
      "cell_type": "code",
      "metadata": {
        "id": "X5fNw-LnjnhS",
        "outputId": "24c42d63-4557-4cdc-9348-5d5caee352e3"
      },
      "source": [
        "from sklearn.svm import LinearSVC\n",
        "from sklearn.metrics import accuracy_score, confusion_matrix\n",
        "\n",
        "nbs2 = LinearSVC()\n",
        "nbs2.fit(X_train, y_train)\n",
        "\n",
        "\n",
        "y_pred = nbs2.predict(X_test)\n",
        "\n",
        "print('accuracy on train set %s' % accuracy_score(y_train, nbs2.predict(X_train)))\n",
        "print('accuracy on test set %s' % accuracy_score(y_pred, y_test))"
      ],
      "execution_count": null,
      "outputs": [
        {
          "output_type": "stream",
          "text": [
            "accuracy on train set 0.9329094076655052\n",
            "accuracy on test set 0.3617654351599306\n"
          ],
          "name": "stdout"
        }
      ]
    },
    {
      "cell_type": "code",
      "metadata": {
        "id": "2cn8dlzXjnhY",
        "outputId": "7e59dd9c-8f0e-4ddf-87da-0e5108a72004"
      },
      "source": [
        "from sklearn.linear_model import LogisticRegression\n",
        "\n",
        "clf = LogisticRegression()\n",
        "clf.fit(X_train,y_train)\n",
        "pred_y = clf.predict(X_test)\n",
        "\n",
        "print('accuracy on train set %s' % accuracy_score(y_train, clf.predict(X_train)))\n",
        "print('accuracy on test set %s' % accuracy_score(pred_y, y_test))"
      ],
      "execution_count": null,
      "outputs": [
        {
          "output_type": "stream",
          "text": [
            "C:\\ProgramData\\Anaconda3\\lib\\site-packages\\sklearn\\linear_model\\_logistic.py:940: ConvergenceWarning: lbfgs failed to converge (status=1):\n",
            "STOP: TOTAL NO. of ITERATIONS REACHED LIMIT.\n",
            "\n",
            "Increase the number of iterations (max_iter) or scale the data as shown in:\n",
            "    https://scikit-learn.org/stable/modules/preprocessing.html\n",
            "Please also refer to the documentation for alternative solver options:\n",
            "    https://scikit-learn.org/stable/modules/linear_model.html#logistic-regression\n",
            "  extra_warning_msg=_LOGISTIC_SOLVER_CONVERGENCE_MSG)\n"
          ],
          "name": "stderr"
        },
        {
          "output_type": "stream",
          "text": [
            "accuracy on train set 0.7623954703832753\n",
            "accuracy on test set 0.3399454500371932\n"
          ],
          "name": "stdout"
        }
      ]
    },
    {
      "cell_type": "code",
      "metadata": {
        "id": "vbjlmYjfjnhg"
      },
      "source": [
        "#------------------------------------------------------#"
      ],
      "execution_count": null,
      "outputs": []
    },
    {
      "cell_type": "code",
      "metadata": {
        "id": "j5jId4tFjnhi"
      },
      "source": [
        "from sklearn.preprocessing import OneHotEncoder\n",
        "from sklearn.neural_network import MLPClassifier\n",
        "from sklearn.metrics import accuracy_score\n",
        "\n",
        "train = pd.read_csv('train.csv')\n",
        "test = pd.read_csv('test.csv')\n",
        "\n",
        "# Get review text\n",
        "reviews = np.vstack((train.review.values.reshape(-1, 1), \n",
        "                     test.review.values.reshape(-1, 1)))\n",
        "\n",
        "# Set up function to re-vectorize reviews. This time binary is set to false, we only have 500 max features and min and max_df arguments have been set.\n",
        "vectorizer = CountVectorizer(binary=False, stop_words=stopwords.words('english'),\n",
        "                             lowercase=True, min_df=3, max_df=0.9, max_features=500)\n",
        "\n",
        "# Vectorize reviews\n",
        "X = vectorizer.fit_transform(reviews.ravel()).toarray()\n",
        "\n",
        "# Get ratings\n",
        "\n",
        "y = train.rating.values.reshape(-1, 1)\n",
        "\n",
        "X_train, X_test = X[:train.values.shape[0], :], X[train.values.shape[0]:, :] \n",
        "y_train, y_test = y[:train.values.shape[0]], y[train.values.shape[0]:]"
      ],
      "execution_count": null,
      "outputs": []
    },
    {
      "cell_type": "code",
      "metadata": {
        "id": "4cdHrpt2jnhp",
        "outputId": "0b9097c8-33d2-4949-f116-fcff2ec00399"
      },
      "source": [
        "X.shape, y.shape, X_train.shape, y_train.shape, X_test.shape, y_test.shape"
      ],
      "execution_count": null,
      "outputs": [
        {
          "output_type": "execute_result",
          "data": {
            "text/plain": [
              "((53766, 500), (40324, 1), (40324, 500), (40324, 1), (13442, 500), (0, 1))"
            ]
          },
          "metadata": {
            "tags": []
          },
          "execution_count": 14
        }
      ]
    },
    {
      "cell_type": "code",
      "metadata": {
        "id": "RQKvrGoEjnhr",
        "outputId": "7acb52a0-3bc0-40dc-a95b-2f5600418bc9"
      },
      "source": [
        "from sklearn.linear_model import LinearRegression\n",
        "lin_reg = LinearRegression()\n",
        "lin_reg.fit(X_train[:5000], y_train[:5000])"
      ],
      "execution_count": null,
      "outputs": [
        {
          "output_type": "execute_result",
          "data": {
            "text/plain": [
              "LinearRegression(copy_X=True, fit_intercept=True, n_jobs=None, normalize=False)"
            ]
          },
          "metadata": {
            "tags": []
          },
          "execution_count": 15
        }
      ]
    },
    {
      "cell_type": "code",
      "metadata": {
        "id": "BpAexbfKjnhw"
      },
      "source": [
        "pred = lin_reg.predict(X_train[5000:])"
      ],
      "execution_count": null,
      "outputs": []
    },
    {
      "cell_type": "code",
      "metadata": {
        "id": "5PLcz4xfjnhy",
        "outputId": "4d22faa5-4288-4975-fba7-cf9319d48676"
      },
      "source": [
        "np.sum(np.abs(y_train[5000:] - pred[:])) / (40324 - 5000)"
      ],
      "execution_count": null,
      "outputs": [
        {
          "output_type": "execute_result",
          "data": {
            "text/plain": [
              "2.330230047590338"
            ]
          },
          "metadata": {
            "tags": []
          },
          "execution_count": 17
        }
      ]
    },
    {
      "cell_type": "code",
      "metadata": {
        "id": "vL_T4Xo7jnh0"
      },
      "source": [
        "pred = lin_reg.predict(X_test)"
      ],
      "execution_count": null,
      "outputs": []
    },
    {
      "cell_type": "code",
      "metadata": {
        "id": "dqPzVENijnh1",
        "outputId": "6087cf6f-c977-49f7-d2b8-095a7a4d2ac0"
      },
      "source": [
        "print('accuracy on test set %s' % accuracy_score(pred, y_test))"
      ],
      "execution_count": null,
      "outputs": [
        {
          "output_type": "error",
          "ename": "ValueError",
          "evalue": "Found input variables with inconsistent numbers of samples: [13442, 0]",
          "traceback": [
            "\u001b[1;31m---------------------------------------------------------------------------\u001b[0m",
            "\u001b[1;31mValueError\u001b[0m                                Traceback (most recent call last)",
            "\u001b[1;32m<ipython-input-19-b00423308f37>\u001b[0m in \u001b[0;36m<module>\u001b[1;34m\u001b[0m\n\u001b[1;32m----> 1\u001b[1;33m \u001b[0mprint\u001b[0m\u001b[1;33m(\u001b[0m\u001b[1;34m'accuracy on test set %s'\u001b[0m \u001b[1;33m%\u001b[0m \u001b[0maccuracy_score\u001b[0m\u001b[1;33m(\u001b[0m\u001b[0mpred\u001b[0m\u001b[1;33m,\u001b[0m \u001b[0my_test\u001b[0m\u001b[1;33m)\u001b[0m\u001b[1;33m)\u001b[0m\u001b[1;33m\u001b[0m\u001b[1;33m\u001b[0m\u001b[0m\n\u001b[0m",
            "\u001b[1;32mC:\\ProgramData\\Anaconda3\\lib\\site-packages\\sklearn\\metrics\\_classification.py\u001b[0m in \u001b[0;36maccuracy_score\u001b[1;34m(y_true, y_pred, normalize, sample_weight)\u001b[0m\n\u001b[0;32m    183\u001b[0m \u001b[1;33m\u001b[0m\u001b[0m\n\u001b[0;32m    184\u001b[0m     \u001b[1;31m# Compute accuracy for each possible representation\u001b[0m\u001b[1;33m\u001b[0m\u001b[1;33m\u001b[0m\u001b[1;33m\u001b[0m\u001b[0m\n\u001b[1;32m--> 185\u001b[1;33m     \u001b[0my_type\u001b[0m\u001b[1;33m,\u001b[0m \u001b[0my_true\u001b[0m\u001b[1;33m,\u001b[0m \u001b[0my_pred\u001b[0m \u001b[1;33m=\u001b[0m \u001b[0m_check_targets\u001b[0m\u001b[1;33m(\u001b[0m\u001b[0my_true\u001b[0m\u001b[1;33m,\u001b[0m \u001b[0my_pred\u001b[0m\u001b[1;33m)\u001b[0m\u001b[1;33m\u001b[0m\u001b[1;33m\u001b[0m\u001b[0m\n\u001b[0m\u001b[0;32m    186\u001b[0m     \u001b[0mcheck_consistent_length\u001b[0m\u001b[1;33m(\u001b[0m\u001b[0my_true\u001b[0m\u001b[1;33m,\u001b[0m \u001b[0my_pred\u001b[0m\u001b[1;33m,\u001b[0m \u001b[0msample_weight\u001b[0m\u001b[1;33m)\u001b[0m\u001b[1;33m\u001b[0m\u001b[1;33m\u001b[0m\u001b[0m\n\u001b[0;32m    187\u001b[0m     \u001b[1;32mif\u001b[0m \u001b[0my_type\u001b[0m\u001b[1;33m.\u001b[0m\u001b[0mstartswith\u001b[0m\u001b[1;33m(\u001b[0m\u001b[1;34m'multilabel'\u001b[0m\u001b[1;33m)\u001b[0m\u001b[1;33m:\u001b[0m\u001b[1;33m\u001b[0m\u001b[1;33m\u001b[0m\u001b[0m\n",
            "\u001b[1;32mC:\\ProgramData\\Anaconda3\\lib\\site-packages\\sklearn\\metrics\\_classification.py\u001b[0m in \u001b[0;36m_check_targets\u001b[1;34m(y_true, y_pred)\u001b[0m\n\u001b[0;32m     78\u001b[0m     \u001b[0my_pred\u001b[0m \u001b[1;33m:\u001b[0m \u001b[0marray\u001b[0m \u001b[1;32mor\u001b[0m \u001b[0mindicator\u001b[0m \u001b[0mmatrix\u001b[0m\u001b[1;33m\u001b[0m\u001b[1;33m\u001b[0m\u001b[0m\n\u001b[0;32m     79\u001b[0m     \"\"\"\n\u001b[1;32m---> 80\u001b[1;33m     \u001b[0mcheck_consistent_length\u001b[0m\u001b[1;33m(\u001b[0m\u001b[0my_true\u001b[0m\u001b[1;33m,\u001b[0m \u001b[0my_pred\u001b[0m\u001b[1;33m)\u001b[0m\u001b[1;33m\u001b[0m\u001b[1;33m\u001b[0m\u001b[0m\n\u001b[0m\u001b[0;32m     81\u001b[0m     \u001b[0mtype_true\u001b[0m \u001b[1;33m=\u001b[0m \u001b[0mtype_of_target\u001b[0m\u001b[1;33m(\u001b[0m\u001b[0my_true\u001b[0m\u001b[1;33m)\u001b[0m\u001b[1;33m\u001b[0m\u001b[1;33m\u001b[0m\u001b[0m\n\u001b[0;32m     82\u001b[0m     \u001b[0mtype_pred\u001b[0m \u001b[1;33m=\u001b[0m \u001b[0mtype_of_target\u001b[0m\u001b[1;33m(\u001b[0m\u001b[0my_pred\u001b[0m\u001b[1;33m)\u001b[0m\u001b[1;33m\u001b[0m\u001b[1;33m\u001b[0m\u001b[0m\n",
            "\u001b[1;32mC:\\ProgramData\\Anaconda3\\lib\\site-packages\\sklearn\\utils\\validation.py\u001b[0m in \u001b[0;36mcheck_consistent_length\u001b[1;34m(*arrays)\u001b[0m\n\u001b[0;32m    210\u001b[0m     \u001b[1;32mif\u001b[0m \u001b[0mlen\u001b[0m\u001b[1;33m(\u001b[0m\u001b[0muniques\u001b[0m\u001b[1;33m)\u001b[0m \u001b[1;33m>\u001b[0m \u001b[1;36m1\u001b[0m\u001b[1;33m:\u001b[0m\u001b[1;33m\u001b[0m\u001b[1;33m\u001b[0m\u001b[0m\n\u001b[0;32m    211\u001b[0m         raise ValueError(\"Found input variables with inconsistent numbers of\"\n\u001b[1;32m--> 212\u001b[1;33m                          \" samples: %r\" % [int(l) for l in lengths])\n\u001b[0m\u001b[0;32m    213\u001b[0m \u001b[1;33m\u001b[0m\u001b[0m\n\u001b[0;32m    214\u001b[0m \u001b[1;33m\u001b[0m\u001b[0m\n",
            "\u001b[1;31mValueError\u001b[0m: Found input variables with inconsistent numbers of samples: [13442, 0]"
          ]
        }
      ]
    },
    {
      "cell_type": "code",
      "metadata": {
        "id": "jhiPKtpbjnh3"
      },
      "source": [
        "#--------------------------------------------#"
      ],
      "execution_count": null,
      "outputs": []
    },
    {
      "cell_type": "code",
      "metadata": {
        "id": "AqyPNvgZjnh4"
      },
      "source": [
        "import pandas as pd\n",
        "import numpy as np\n",
        "train=pd.read_csv('train.csv')\n",
        "test=pd.read_csv(\"test.csv\")"
      ],
      "execution_count": null,
      "outputs": []
    },
    {
      "cell_type": "code",
      "metadata": {
        "id": "fzPDiLSRjnh6",
        "outputId": "f755196b-fdb3-4e7d-ff0f-8724b617bf77"
      },
      "source": [
        "train.shape,test.shape"
      ],
      "execution_count": null,
      "outputs": [
        {
          "output_type": "execute_result",
          "data": {
            "text/plain": [
              "((40324, 7), (13442, 6))"
            ]
          },
          "metadata": {
            "tags": []
          },
          "execution_count": 2
        }
      ]
    },
    {
      "cell_type": "code",
      "metadata": {
        "id": "fiGvcXg4jnh7",
        "outputId": "55a15527-0c07-4306-fdae-4fa8fc49d124"
      },
      "source": [
        "b = \"'@#$%^()&*;!.-\"\n",
        "X_train = np.array(train['review'])\n",
        "X_test = np.array(test['review'])\n",
        "\n",
        "def clean(X):\n",
        "    for index, review in enumerate(X):\n",
        "        for char in b:\n",
        "            X[index] = X[index].replace(char, \"\")\n",
        "    return(X)\n",
        "\n",
        "X_train = clean(X_train)\n",
        "X_test = clean(X_test)\n",
        "print(X_train[:2])"
      ],
      "execution_count": null,
      "outputs": [
        {
          "output_type": "stream",
          "text": [
            "['\"This drug has changed my life I take 5mg only in the luteal phase and it has completely cured my severe PMT symptoms, I was anxious, paranoid, angry and tearful I was pushing my family and husband away and falling out with friends At the point of suicidal thought I couldn039t take it anymore and contacted my GP My only regret is not doing it earlier I began on 10 mg but it was too strong for me, I was dizzy and hyper After halving the dose it was like a magic switch being turned on and I immediately felt like my own self I have no side effects coming off the drug at the end of my two weeks and just a headache for an hour when I restart them No weight gain either, I039ve actually lost 10lb cos I039m energetic enough for the gym\"'\n",
            " '\"I039ve been experimenting with different brands of birth control for 15 years I took every pill under the sun, including the shot but always suffered terrible side effects from nausea and vomiting, to crazy mood swings, depression, anxiety and weight gain Yaz is the ONLY pill I039ve been able to tolerate I have very minimal side effects some breast tenderness, occasional spotting My skin looks great, I have more energy, I haven039t gained a single pound, my periods are light, I still have a sex drive, and my emotions are not all over the place I get that everyone is different and what works for some may be a nightmare for others, but if you039ve not been able to tolerate any other brands I039d give Yaz a try\"']\n"
          ],
          "name": "stdout"
        }
      ]
    },
    {
      "cell_type": "code",
      "metadata": {
        "id": "2nna-26Zjnh9",
        "outputId": "dda3bcc6-de3f-42e9-a2c7-d58917dff03a"
      },
      "source": [
        "from keras.models import Sequential\n",
        "from keras.layers import Dense, LSTM, Embedding\n",
        "from sklearn.feature_extraction.text import CountVectorizer, TfidfVectorizer\n",
        "from nltk.corpus import stopwords\n",
        "from keras.utils import to_categorical\n",
        "from gensim.models import Word2Vec\n",
        "from nltk.cluster import KMeansClusterer\n",
        "import nltk\n",
        "\n",
        "vectorizer = CountVectorizer(binary=True, stop_words=stopwords.words('english'),lowercase=True, max_features=5000)\n",
        "#vectorizer = TfidfVectorizer(binary=True, stop_words=stopwords.words('english'), lowercase=True, max_features=5000)\n",
        "test_train = np.concatenate([X_train, X_test])\n",
        "print(test_train.shape)\n",
        "X_onehot = vectorizer.fit_transform(test_train)\n",
        "stop_words = vectorizer.get_stop_words()\n",
        "print(type(X_onehot))"
      ],
      "execution_count": null,
      "outputs": [
        {
          "output_type": "stream",
          "text": [
            "Using TensorFlow backend.\n"
          ],
          "name": "stderr"
        },
        {
          "output_type": "stream",
          "text": [
            "(53766,)\n",
            "<class 'scipy.sparse.csr.csr_matrix'>\n"
          ],
          "name": "stdout"
        }
      ]
    },
    {
      "cell_type": "code",
      "metadata": {
        "id": "unbyE_-4jniD",
        "outputId": "31b95b81-6d5d-4e82-bfea-08b3b18825a4"
      },
      "source": [
        "print(X_onehot.shape)\n",
        "print(X_onehot.toarray())"
      ],
      "execution_count": null,
      "outputs": [
        {
          "output_type": "stream",
          "text": [
            "(53766, 5000)\n",
            "[[0 0 0 ... 0 0 0]\n",
            " [0 0 0 ... 0 0 0]\n",
            " [0 0 0 ... 0 0 0]\n",
            " ...\n",
            " [0 0 0 ... 0 0 0]\n",
            " [0 0 0 ... 0 0 0]\n",
            " [0 0 0 ... 0 0 0]]\n"
          ],
          "name": "stdout"
        }
      ]
    },
    {
      "cell_type": "code",
      "metadata": {
        "id": "PKkfXV0XjniG",
        "outputId": "efcce3e9-41fc-46c2-e8be-859c86fed6a7"
      },
      "source": [
        "names_list = vectorizer.get_feature_names()\n",
        "names = [[i] for i in names_list]\n",
        "names = Word2Vec(names, min_count=1)\n",
        "print(len(list(names.wv.vocab)))\n",
        "print(list(names.wv.vocab)[:5])"
      ],
      "execution_count": null,
      "outputs": [
        {
          "output_type": "stream",
          "text": [
            "5000\n",
            "['00', '000', '005', '00am', '00pm']\n"
          ],
          "name": "stdout"
        }
      ]
    },
    {
      "cell_type": "code",
      "metadata": {
        "id": "VeoPq386jniI"
      },
      "source": [
        "##### def score_transform(X):\n",
        "    y_reshaped = np.reshape(X['rating'].values, (-1, 1))\n",
        "    for index, val in enumerate(y_reshaped):\n",
        "        if val >= 8:\n",
        "            y_reshaped[index] = 1\n",
        "        elif val >= 5:\n",
        "            y_reshaped[index] = 2\n",
        "        else:\n",
        "            y_reshaped[index] = 0\n",
        "    y_result = to_categorical(y_reshaped)\n",
        "    return y_result\n",
        "    \n",
        "    print(X_onehot)"
      ],
      "execution_count": null,
      "outputs": []
    },
    {
      "cell_type": "code",
      "metadata": {
        "id": "MkFBCF6LjniJ"
      },
      "source": [
        "def score_transform(X):\n",
        "    y_reshaped = np.reshape(X['rating'].values, (-1, 1))\n",
        "    for index, val in enumerate(y_reshaped):\n",
        "        if val == 1:\n",
        "            y_reshaped[index] = 1\n",
        "        elif val == 9:\n",
        "            y_reshaped[index] = 9\n",
        "        elif val == 8:\n",
        "            y_reshaped[index] = 8\n",
        "        elif val == 7:\n",
        "            y_reshaped[index] = 7\n",
        "        elif val == 6:\n",
        "            y_reshaped[index] = 6\n",
        "        elif val == 5:\n",
        "            y_reshaped[index] = 5\n",
        "        elif val == 4:\n",
        "            y_reshaped[index] = 4\n",
        "        elif val == 3:\n",
        "            y_reshaped[index] = 3\n",
        "        elif val == 2:\n",
        "            y_reshaped[index] = 2\n",
        "        \n",
        "        else:\n",
        "            y_reshaped[index] = 10\n",
        "    y_result = to_categorical(y_reshaped)\n",
        "    return y_result\n",
        "    \n",
        "    print(X_onehot)"
      ],
      "execution_count": null,
      "outputs": []
    },
    {
      "cell_type": "code",
      "metadata": {
        "id": "JQjPiVWMjniP",
        "outputId": "1deb0288-0898-48ce-9bd2-e4ac23faf61b"
      },
      "source": [
        "y_train_test = pd.concat([train, test], ignore_index=True)\n",
        "y_train = score_transform(y_train_test)\n",
        "print(y_train)\n",
        "print(y_train.shape)"
      ],
      "execution_count": null,
      "outputs": [
        {
          "output_type": "stream",
          "text": [
            "[[0. 0. 0. ... 0. 0. 1.]\n",
            " [0. 0. 0. ... 0. 0. 1.]\n",
            " [0. 0. 0. ... 0. 0. 1.]\n",
            " ...\n",
            " [0. 0. 0. ... 0. 0. 1.]\n",
            " [0. 0. 0. ... 0. 0. 1.]\n",
            " [0. 0. 0. ... 0. 0. 1.]]\n",
            "(53766, 11)\n"
          ],
          "name": "stdout"
        }
      ]
    },
    {
      "cell_type": "code",
      "metadata": {
        "id": "-2ZL1ggwjniQ",
        "outputId": "546bf135-cbde-4e04-a8b9-c967bd548eed"
      },
      "source": [
        "from numpy.random import seed\n",
        "\n",
        "np.random.seed(1)\n",
        "model = Sequential()\n",
        "model.add(Dense(units=256, activation='relu', input_dim=len(vectorizer.get_feature_names())))\n",
        "model.add(Dense(units=11, activation='softmax'))\n",
        "\n",
        "model.compile(loss='categorical_crossentropy', optimizer='adam', metrics=['accuracy'])\n",
        "model.summary"
      ],
      "execution_count": null,
      "outputs": [
        {
          "output_type": "execute_result",
          "data": {
            "text/plain": [
              "<bound method Network.summary of <keras.engine.sequential.Sequential object at 0x0000028562ACD888>>"
            ]
          },
          "metadata": {
            "tags": []
          },
          "execution_count": 13
        }
      ]
    },
    {
      "cell_type": "code",
      "metadata": {
        "id": "3XNk2J3bjniV",
        "outputId": "4c32ac5b-f46f-4455-e903-e00f2b54fc91"
      },
      "source": [
        "X_onehot.shape"
      ],
      "execution_count": null,
      "outputs": [
        {
          "output_type": "execute_result",
          "data": {
            "text/plain": [
              "(53766, 5000)"
            ]
          },
          "metadata": {
            "tags": []
          },
          "execution_count": 14
        }
      ]
    },
    {
      "cell_type": "code",
      "metadata": {
        "id": "JorVLF8hjnia",
        "outputId": "a0145032-2cd9-47ff-f572-939bff89662d"
      },
      "source": [
        "history = model.fit(X_onehot[:-13542], y_train[:-13542], epochs=6, batch_size=128, verbose=1, validation_data=(X_onehot[37382:37482], y_train[37382:37482]))"
      ],
      "execution_count": null,
      "outputs": [
        {
          "output_type": "stream",
          "text": [
            "Train on 40224 samples, validate on 100 samples\n",
            "Epoch 1/6\n",
            "40224/40224 [==============================] - 13s 316us/step - loss: 1.7549 - accuracy: 0.3989 - val_loss: 1.3075 - val_accuracy: 0.5900\n",
            "Epoch 2/6\n",
            "40224/40224 [==============================] - 13s 311us/step - loss: 1.4162 - accuracy: 0.5112 - val_loss: 1.0066 - val_accuracy: 0.7400\n",
            "Epoch 3/6\n",
            "40224/40224 [==============================] - 13s 314us/step - loss: 1.1163 - accuracy: 0.6339 - val_loss: 0.7045 - val_accuracy: 0.8400\n",
            "Epoch 4/6\n",
            "40224/40224 [==============================] - 13s 314us/step - loss: 0.7680 - accuracy: 0.7731 - val_loss: 0.4294 - val_accuracy: 0.9400\n",
            "Epoch 5/6\n",
            "40224/40224 [==============================] - 13s 313us/step - loss: 0.4769 - accuracy: 0.8829 - val_loss: 0.2349 - val_accuracy: 0.9600\n",
            "Epoch 6/6\n",
            "40224/40224 [==============================] - 12s 303us/step - loss: 0.2891 - accuracy: 0.9432 - val_loss: 0.1493 - val_accuracy: 0.9800\n"
          ],
          "name": "stdout"
        }
      ]
    },
    {
      "cell_type": "code",
      "metadata": {
        "id": "6rC-kxfDjnic",
        "outputId": "0855dec3-ebee-4c9a-808a-0279d67f8474"
      },
      "source": [
        "scores = model.evaluate(X_onehot[37482:], y_train[37482:], verbose=1)"
      ],
      "execution_count": null,
      "outputs": [
        {
          "output_type": "stream",
          "text": [
            "16284/16284 [==============================] - 3s 164us/step\n"
          ],
          "name": "stdout"
        }
      ]
    },
    {
      "cell_type": "code",
      "metadata": {
        "id": "63m5gLkPjnie",
        "outputId": "efc1204e-8050-4b49-b2a8-8001c36ce981"
      },
      "source": [
        "scores[1]"
      ],
      "execution_count": null,
      "outputs": [
        {
          "output_type": "execute_result",
          "data": {
            "text/plain": [
              "0.2942765951156616"
            ]
          },
          "metadata": {
            "tags": []
          },
          "execution_count": 17
        }
      ]
    },
    {
      "cell_type": "code",
      "metadata": {
        "id": "yO_4ZYeFjnih",
        "outputId": "480c9b21-2b17-49f9-e41b-908d74906ba5"
      },
      "source": [
        "import matplotlib.pyplot as plt\n",
        "plt.plot(history.history['accuracy'])\n",
        "plt.plot(history.history['val_accuracy'])\n",
        "plt.title('Model accuracy')\n",
        "plt.ylabel('Accuracy')\n",
        "plt.xlabel('Epoch')\n",
        "plt.legend(['Train', 'Test'], loc='upper left')\n",
        "plt.show()"
      ],
      "execution_count": null,
      "outputs": [
        {
          "output_type": "display_data",
          "data": {
            "image/png": "[encoded data removed]",
            "text/plain": [
              "<Figure size 432x288 with 1 Axes>"
            ]
          },
          "metadata": {
            "tags": [],
            "needs_background": "light"
          }
        }
      ]
    },
    {
      "cell_type": "code",
      "metadata": {
        "id": "ZTr_ObPRjnii"
      },
      "source": [
        ""
      ],
      "execution_count": null,
      "outputs": []
    }
  ]
}